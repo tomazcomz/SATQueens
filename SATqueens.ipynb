{
 "cells": [
  {
   "cell_type": "markdown",
   "metadata": {},
   "source": [
    "## Compiling into Booleans and Calling SAT-solver"
   ]
  },
  {
   "cell_type": "code",
   "execution_count": 30,
   "metadata": {},
   "outputs": [],
   "source": [
    "import sys\n",
    "import time\n",
    "from ortools.sat.python import cp_model"
   ]
  },
  {
   "cell_type": "code",
   "execution_count": 31,
   "metadata": {},
   "outputs": [],
   "source": [
    "model = cp_model.CpModel()"
   ]
  },
  {
   "cell_type": "code",
   "execution_count": 32,
   "metadata": {},
   "outputs": [],
   "source": [
    "board_size=int(input())"
   ]
  },
  {
   "cell_type": "code",
   "execution_count": 33,
   "metadata": {},
   "outputs": [
    {
     "data": {
      "text/plain": [
       "[[x_0_0(0..1), x_1_0(0..1), x_2_0(0..1), x_3_0(0..1)],\n",
       " [x_0_1(0..1), x_1_1(0..1), x_2_1(0..1), x_3_1(0..1)],\n",
       " [x_0_2(0..1), x_1_2(0..1), x_2_2(0..1), x_3_2(0..1)],\n",
       " [x_0_3(0..1), x_1_3(0..1), x_2_3(0..1), x_3_3(0..1)]]"
      ]
     },
     "metadata": {},
     "output_type": "display_data"
    }
   ],
   "source": [
    "# There are `board_size` number of variables, one for a queen in each column\n",
    "# of the board. The value of each variable is the row that the queen is in.\n",
    "queens=[]\n",
    "for i in range(board_size):\n",
    "    queens.append([])\n",
    "    for j in range(board_size):\n",
    "        queens[i].append(model.new_bool_var(f\"x_{j}_{i}\"))\n",
    "\n",
    "display(queens)"
   ]
  },
  {
   "cell_type": "code",
   "execution_count": 34,
   "metadata": {},
   "outputs": [],
   "source": [
    "# All rows must be different.\n",
    "for i in range(board_size):\n",
    "    model.add_at_most_one(queens[i])\n",
    "    model.add_at_least_one(queens[i])\n",
    "\n",
    "# No two queens can be on the same diagonal.\n",
    "for j in range(board_size-1):\n",
    "    model.add_at_most_one(queens[j][j+1])\n",
    "    model.add_at_least_one(queens[j][j+1])\n",
    "for j in range(1,board_size):\n",
    "    model.add_at_most_one(queens[j][j-1])\n",
    "    model.add_at_least_one(queens[j][j-1])"
   ]
  },
  {
   "cell_type": "code",
   "execution_count": 35,
   "metadata": {},
   "outputs": [],
   "source": [
    "class NQueenSolutionPrinter(cp_model.CpSolverSolutionCallback):\n",
    "    \"\"\"Print intermediate solutions.\"\"\"\n",
    "\n",
    "    def __init__(self, queens: list[list[cp_model.BoolVarT]]):\n",
    "        cp_model.CpSolverSolutionCallback.__init__(self)\n",
    "        self.__queens = queens\n",
    "        self.__solution_count = 0\n",
    "        self.__start_time = time.time()\n",
    "\n",
    "    @property\n",
    "    def solution_count(self) -> int:\n",
    "        return self.__solution_count\n",
    "\n",
    "    def on_solution_callback(self):\n",
    "        current_time = time.time()\n",
    "        print(\n",
    "            f\"Solution {self.__solution_count}, \"\n",
    "            f\"time = {current_time - self.__start_time} s\"\n",
    "        )\n",
    "        self.__solution_count += 1\n",
    "\n",
    "        all_queens = range(len(self.__queens))\n",
    "        for i in all_queens:\n",
    "            for j in all_queens:\n",
    "                if self.value(self.__queens[j][i]):\n",
    "                    # There is a queen in column j, row i.\n",
    "                    print(\"Q\", end=\" \")\n",
    "                else:\n",
    "                    print(\"_\", end=\" \")\n",
    "            print()\n",
    "        print()"
   ]
  },
  {
   "cell_type": "code",
   "execution_count": 36,
   "metadata": {},
   "outputs": [
    {
     "data": {
      "text/plain": [
       "3"
      ]
     },
     "execution_count": 36,
     "metadata": {},
     "output_type": "execute_result"
    }
   ],
   "source": [
    "# Solve the model.\n",
    "solver = cp_model.CpSolver()\n",
    "solution_printer = NQueenSolutionPrinter(queens)\n",
    "solver.parameters.enumerate_all_solutions = True\n",
    "solver.solve(model, solution_printer)"
   ]
  },
  {
   "cell_type": "code",
   "execution_count": 37,
   "metadata": {},
   "outputs": [
    {
     "name": "stdout",
     "output_type": "stream",
     "text": [
      "\n",
      "Statistics\n",
      "  conflicts      : 0\n",
      "  branches       : 0\n",
      "  wall time      : 0.000146756 s\n",
      "  solutions found: 0\n"
     ]
    }
   ],
   "source": [
    "# Statistics.\n",
    "print(\"\\nStatistics\")\n",
    "print(f\"  conflicts      : {solver.num_conflicts}\")\n",
    "print(f\"  branches       : {solver.num_branches}\")\n",
    "print(f\"  wall time      : {solver.wall_time} s\")\n",
    "print(f\"  solutions found: {solution_printer.solution_count}\")"
   ]
  },
  {
   "cell_type": "markdown",
   "metadata": {},
   "source": [
    "## Constraint Problem Solver"
   ]
  },
  {
   "cell_type": "code",
   "execution_count": 38,
   "metadata": {},
   "outputs": [],
   "source": [
    "import sys\n",
    "from ortools.constraint_solver import pywrapcp"
   ]
  },
  {
   "cell_type": "code",
   "execution_count": 39,
   "metadata": {},
   "outputs": [],
   "source": [
    "solver = pywrapcp.Solver(\"n-queens\")"
   ]
  },
  {
   "cell_type": "code",
   "execution_count": null,
   "metadata": {},
   "outputs": [],
   "source": [
    "board_size=int(input())"
   ]
  },
  {
   "cell_type": "code",
   "execution_count": 40,
   "metadata": {},
   "outputs": [],
   "source": [
    "# The array index is the column, and the value is the row.\n",
    "queens = [solver.IntVar(0, board_size - 1, f\"x{i}\") for i in range(board_size)]"
   ]
  },
  {
   "cell_type": "code",
   "execution_count": 41,
   "metadata": {},
   "outputs": [],
   "source": [
    "# All rows must be different.\n",
    "solver.Add(solver.AllDifferent(queens))\n",
    "\n",
    "# No two queens can be on the same diagonal.\n",
    "solver.Add(solver.AllDifferent([queens[i] + i for i in range(board_size)]))\n",
    "solver.Add(solver.AllDifferent([queens[i] - i for i in range(board_size)]))"
   ]
  },
  {
   "cell_type": "code",
   "execution_count": 42,
   "metadata": {},
   "outputs": [],
   "source": [
    "db = solver.Phase(queens, solver.CHOOSE_FIRST_UNBOUND, solver.ASSIGN_MIN_VALUE)"
   ]
  },
  {
   "cell_type": "code",
   "execution_count": 43,
   "metadata": {},
   "outputs": [
    {
     "name": "stdout",
     "output_type": "stream",
     "text": [
      "_ _ Q _ \n",
      "Q _ _ _ \n",
      "_ _ _ Q \n",
      "_ Q _ _ \n",
      "\n",
      "_ Q _ _ \n",
      "_ _ _ Q \n",
      "Q _ _ _ \n",
      "_ _ Q _ \n",
      "\n"
     ]
    }
   ],
   "source": [
    "# Iterates through the solutions, displaying each.\n",
    "num_solutions = 0\n",
    "solver.NewSearch(db)\n",
    "while solver.NextSolution():\n",
    "        # Displays the solution just computed.\n",
    "    for i in range(board_size):\n",
    "        for j in range(board_size):\n",
    "            if queens[j].Value() == i:\n",
    "                    # There is a queen in column j, row i.\n",
    "                print(\"Q\", end=\" \")\n",
    "            else:\n",
    "                print(\"_\", end=\" \")\n",
    "        print()\n",
    "    print()\n",
    "    num_solutions += 1\n",
    "solver.EndSearch()"
   ]
  },
  {
   "cell_type": "code",
   "execution_count": 44,
   "metadata": {},
   "outputs": [
    {
     "name": "stdout",
     "output_type": "stream",
     "text": [
      "\n",
      "Statistics\n",
      "  failures: 4\n",
      "  branches: 10\n",
      "  wall time: 113721 ms\n",
      "  Solutions found: 2\n"
     ]
    }
   ],
   "source": [
    " # Statistics.\n",
    "print(\"\\nStatistics\")\n",
    "print(f\"  failures: {solver.Failures()}\")\n",
    "print(f\"  branches: {solver.Branches()}\")\n",
    "print(f\"  wall time: {solver.WallTime()} ms\")\n",
    "print(f\"  Solutions found: {num_solutions}\")\n"
   ]
  }
 ],
 "metadata": {
  "kernelspec": {
   "display_name": "vsc",
   "language": "python",
   "name": "python3"
  },
  "language_info": {
   "codemirror_mode": {
    "name": "ipython",
    "version": 3
   },
   "file_extension": ".py",
   "mimetype": "text/x-python",
   "name": "python",
   "nbconvert_exporter": "python",
   "pygments_lexer": "ipython3",
   "version": "3.10.12"
  }
 },
 "nbformat": 4,
 "nbformat_minor": 2
}
